{
 "cells": [
  {
   "cell_type": "markdown",
   "metadata": {},
   "source": [
    "# Demo Setup\n",
    "\n",
    "This demo will be run from the ACCRE cluster within a Jupyter Notebook. This can be done by first setting up a ssh tunnel from your local machine to the cluster, as we discussed at the last seminar (e.g. see: https://github.com/accre/Python/tree/master/notebooks). "
   ]
  },
  {
   "cell_type": "markdown",
   "metadata": {},
   "source": [
    "# Magic Commands and Cells\n",
    "\n",
    "Recall that Jupyter notebooks support a bunch of magic commands and cell magic. In this tutorial, standard Unix commands will be run with line magics. Those commands that are not supported by line magic will be run with bash cell magic instead. Don't let this trip you up, you can ignore the magic symbols and just imagine that we are actually typing these commands from a normal bash session while connected to the cluster via ssh."
   ]
  },
  {
   "cell_type": "code",
   "execution_count": 1,
   "metadata": {
    "collapsed": false
   },
   "outputs": [
    {
     "data": {
      "application/json": {
       "cell": {
        "!": "OSMagics",
        "HTML": "Other",
        "SVG": "Other",
        "bash": "Other",
        "capture": "ExecutionMagics",
        "debug": "ExecutionMagics",
        "file": "Other",
        "html": "DisplayMagics",
        "javascript": "DisplayMagics",
        "latex": "DisplayMagics",
        "perl": "Other",
        "prun": "ExecutionMagics",
        "pypy": "Other",
        "python": "Other",
        "python2": "Other",
        "python3": "Other",
        "ruby": "Other",
        "script": "ScriptMagics",
        "sh": "Other",
        "svg": "DisplayMagics",
        "sx": "OSMagics",
        "system": "OSMagics",
        "time": "ExecutionMagics",
        "timeit": "ExecutionMagics",
        "writefile": "OSMagics"
       },
       "line": {
        "alias": "OSMagics",
        "alias_magic": "BasicMagics",
        "autocall": "AutoMagics",
        "automagic": "AutoMagics",
        "autosave": "KernelMagics",
        "bookmark": "OSMagics",
        "cat": "Other",
        "cd": "OSMagics",
        "clear": "KernelMagics",
        "colors": "BasicMagics",
        "config": "ConfigMagics",
        "connect_info": "KernelMagics",
        "cp": "Other",
        "debug": "ExecutionMagics",
        "dhist": "OSMagics",
        "dirs": "OSMagics",
        "doctest_mode": "BasicMagics",
        "ed": "Other",
        "edit": "KernelMagics",
        "env": "OSMagics",
        "gui": "BasicMagics",
        "hist": "Other",
        "history": "HistoryMagics",
        "install_default_config": "DeprecatedMagics",
        "install_ext": "ExtensionMagics",
        "install_profiles": "DeprecatedMagics",
        "killbgscripts": "ScriptMagics",
        "ldir": "Other",
        "less": "KernelMagics",
        "lf": "Other",
        "lk": "Other",
        "ll": "Other",
        "load": "CodeMagics",
        "load_ext": "ExtensionMagics",
        "loadpy": "CodeMagics",
        "logoff": "LoggingMagics",
        "logon": "LoggingMagics",
        "logstart": "LoggingMagics",
        "logstate": "LoggingMagics",
        "logstop": "LoggingMagics",
        "ls": "Other",
        "lsmagic": "BasicMagics",
        "lx": "Other",
        "macro": "ExecutionMagics",
        "magic": "BasicMagics",
        "man": "KernelMagics",
        "matplotlib": "PylabMagics",
        "mkdir": "Other",
        "more": "KernelMagics",
        "mv": "Other",
        "notebook": "BasicMagics",
        "page": "BasicMagics",
        "pastebin": "CodeMagics",
        "pdb": "ExecutionMagics",
        "pdef": "NamespaceMagics",
        "pdoc": "NamespaceMagics",
        "pfile": "NamespaceMagics",
        "pinfo": "NamespaceMagics",
        "pinfo2": "NamespaceMagics",
        "popd": "OSMagics",
        "pprint": "BasicMagics",
        "precision": "BasicMagics",
        "profile": "BasicMagics",
        "prun": "ExecutionMagics",
        "psearch": "NamespaceMagics",
        "psource": "NamespaceMagics",
        "pushd": "OSMagics",
        "pwd": "OSMagics",
        "pycat": "OSMagics",
        "pylab": "PylabMagics",
        "qtconsole": "KernelMagics",
        "quickref": "BasicMagics",
        "recall": "HistoryMagics",
        "rehashx": "OSMagics",
        "reload_ext": "ExtensionMagics",
        "rep": "Other",
        "rerun": "HistoryMagics",
        "reset": "NamespaceMagics",
        "reset_selective": "NamespaceMagics",
        "rm": "Other",
        "rmdir": "Other",
        "run": "ExecutionMagics",
        "save": "CodeMagics",
        "sc": "OSMagics",
        "set_env": "OSMagics",
        "store": "StoreMagics",
        "sx": "OSMagics",
        "system": "OSMagics",
        "tb": "ExecutionMagics",
        "time": "ExecutionMagics",
        "timeit": "ExecutionMagics",
        "unalias": "OSMagics",
        "unload_ext": "ExtensionMagics",
        "who": "NamespaceMagics",
        "who_ls": "NamespaceMagics",
        "whos": "NamespaceMagics",
        "xdel": "NamespaceMagics",
        "xmode": "BasicMagics"
       }
      },
      "text/plain": [
       "Available line magics:\n",
       "%alias  %alias_magic  %autocall  %automagic  %autosave  %bookmark  %cat  %cd  %clear  %colors  %config  %connect_info  %cp  %debug  %dhist  %dirs  %doctest_mode  %ed  %edit  %env  %gui  %hist  %history  %install_default_config  %install_ext  %install_profiles  %killbgscripts  %ldir  %less  %lf  %lk  %ll  %load  %load_ext  %loadpy  %logoff  %logon  %logstart  %logstate  %logstop  %ls  %lsmagic  %lx  %macro  %magic  %man  %matplotlib  %mkdir  %more  %mv  %notebook  %page  %pastebin  %pdb  %pdef  %pdoc  %pfile  %pinfo  %pinfo2  %popd  %pprint  %precision  %profile  %prun  %psearch  %psource  %pushd  %pwd  %pycat  %pylab  %qtconsole  %quickref  %recall  %rehashx  %reload_ext  %rep  %rerun  %reset  %reset_selective  %rm  %rmdir  %run  %save  %sc  %set_env  %store  %sx  %system  %tb  %time  %timeit  %unalias  %unload_ext  %who  %who_ls  %whos  %xdel  %xmode\n",
       "\n",
       "Available cell magics:\n",
       "%%!  %%HTML  %%SVG  %%bash  %%capture  %%debug  %%file  %%html  %%javascript  %%latex  %%perl  %%prun  %%pypy  %%python  %%python2  %%python3  %%ruby  %%script  %%sh  %%svg  %%sx  %%system  %%time  %%timeit  %%writefile\n",
       "\n",
       "Automagic is ON, % prefix IS NOT needed for line magics."
      ]
     },
     "execution_count": 1,
     "metadata": {},
     "output_type": "execute_result"
    }
   ],
   "source": [
    "% lsmagic"
   ]
  },
  {
   "cell_type": "markdown",
   "metadata": {},
   "source": [
    "# Getting Started\n",
    "\n",
    "Let's start by creating a directory to work from for this demo. "
   ]
  },
  {
   "cell_type": "code",
   "execution_count": 2,
   "metadata": {
    "collapsed": false,
    "scrolled": true
   },
   "outputs": [
    {
     "name": "stdout",
     "output_type": "stream",
     "text": [
      "/gpfs22/home/frenchwr\n"
     ]
    }
   ],
   "source": [
    "%cd ~"
   ]
  },
  {
   "cell_type": "code",
   "execution_count": 3,
   "metadata": {
    "collapsed": false
   },
   "outputs": [],
   "source": [
    "%%bash\n",
    "demodir=$(pwd)/pizza-and-programming   # create local shell variable that we can use throughout this demo\n",
    "[[ -d $demodir ]] || mkdir $demodir    # check if directory exists; if not, create it"
   ]
  },
  {
   "cell_type": "markdown",
   "metadata": {},
   "source": [
    "- Note that the double bracket notation is support by Bash but not all Unix shells. The double bracket is generally more powerful than a single bracket and is known as the extended test command. \n",
    "- The || operator will only execute the command on the right if the exit code of the command on the left is non-zero. In this case, we make a new directory only if it does not already exist."
   ]
  },
  {
   "cell_type": "code",
   "execution_count": 4,
   "metadata": {
    "collapsed": false
   },
   "outputs": [
    {
     "name": "stdout",
     "output_type": "stream",
     "text": [
      "/gpfs22/home/frenchwr/pizza-and-programming\n"
     ]
    }
   ],
   "source": [
    "%cd pizza-and-programming/"
   ]
  },
  {
   "cell_type": "markdown",
   "metadata": {},
   "source": [
    "# grep, sed, and awk\n",
    "\n",
    "These are three of the most powerful commands for doing quick line-by-line processing of files. Each of these commands supports a large number of options. In scientific and high-performance computing, they are commonly used for post-processing of simulation/analysis output or for preparing simulation/analysis input."
   ]
  },
  {
   "cell_type": "code",
   "execution_count": 5,
   "metadata": {
    "collapsed": false
   },
   "outputs": [],
   "source": [
    "%%bash\n",
    "demodir=$(pwd)\n",
    "setpkgs -a git\n",
    "[[ -d $demodir/SimpleMD ]] || git clone https://github.com/frenchwr/SimpleMD    # clone SimpleMD repo "
   ]
  },
  {
   "cell_type": "code",
   "execution_count": 6,
   "metadata": {
    "collapsed": false
   },
   "outputs": [
    {
     "name": "stdout",
     "output_type": "stream",
     "text": [
      "/gpfs22/home/frenchwr/pizza-and-programming/SimpleMD\n"
     ]
    }
   ],
   "source": [
    "%cd SimpleMD"
   ]
  },
  {
   "cell_type": "code",
   "execution_count": 7,
   "metadata": {
    "collapsed": false
   },
   "outputs": [
    {
     "name": "stdout",
     "output_type": "stream",
     "text": [
      "\u001b[0m\u001b[01;33mbin\u001b[0m/     \u001b[01;33minc\u001b[0m/      nums.csv  \u001b[01;33mobj\u001b[0m/       sim-output.dat  \u001b[01;33msrc\u001b[0m/\r\n",
      "\u001b[01;33mimages\u001b[0m/  Makefile  nums.txt  README.md  simulate.sh\r\n",
      "\u001b[m"
     ]
    }
   ],
   "source": [
    "%ls"
   ]
  },
  {
   "cell_type": "markdown",
   "metadata": {},
   "source": [
    "- grep stands for \"get regular expression and print.\" In its most basic form, it's used to match lines within a file (or, perhaps more often, piped output from another command) containing a specified string or pattern. For example: "
   ]
  },
  {
   "cell_type": "code",
   "execution_count": 8,
   "metadata": {
    "collapsed": false
   },
   "outputs": [
    {
     "name": "stdout",
     "output_type": "stream",
     "text": [
      "CC=gcc\n",
      "\t$(CC) $(LDFLAGS) $(LDLIBS) $(OBJECTS) -o $@\n",
      "\t$(CC) $(CFLAGS) -c $< -o $@\n"
     ]
    }
   ],
   "source": [
    "%%bash\n",
    "grep \"CC\" Makefile"
   ]
  },
  {
   "cell_type": "code",
   "execution_count": 9,
   "metadata": {
    "collapsed": false
   },
   "outputs": [
    {
     "name": "stdout",
     "output_type": "stream",
     "text": [
      "CC=gcc\n"
     ]
    }
   ],
   "source": [
    "%%bash\n",
    "grep \"cc\" Makefile   # grep is case sensitive"
   ]
  },
  {
   "cell_type": "code",
   "execution_count": 10,
   "metadata": {
    "collapsed": false
   },
   "outputs": [
    {
     "name": "stdout",
     "output_type": "stream",
     "text": [
      "CC=gcc\n",
      "\t$(CC) $(LDFLAGS) $(LDLIBS) $(OBJECTS) -o $@\n",
      "\t$(CC) $(CFLAGS) -c $< -o $@\n"
     ]
    }
   ],
   "source": [
    "%%bash\n",
    "grep -i \"cc\" Makefile   # case insensitive match"
   ]
  },
  {
   "cell_type": "markdown",
   "metadata": {},
   "source": [
    "- One extremely useful option for grep is the -r option, which allows you to search recursively through groups of files embedded in source directories and so on. For example, let's say you are debugging a huge piece of code that you inherited from a previous grad student, and you want to see all lines of code containing a certain variable (called _virial_ in this example). Recursive grep will help you do this quite easily:"
   ]
  },
  {
   "cell_type": "code",
   "execution_count": 11,
   "metadata": {
    "collapsed": false
   },
   "outputs": [
    {
     "name": "stdout",
     "output_type": "stream",
     "text": [
      "src/energy_force.c:51:   myatoms->virial = 0.0;\n",
      "src/energy_force.c:76:            myatoms->virial -= fterm * dis2;\n",
      "src/energy_force.c:97:   myatoms->virial *= 24.0 * len_jo->eps;\n",
      "src/props.c:40:                myatoms->virial / ( 3.0 * m_pars->float_N ) -\n"
     ]
    }
   ],
   "source": [
    "%%bash\n",
    "grep -r -n virial src/    # -n also gives us the line number"
   ]
  },
  {
   "cell_type": "markdown",
   "metadata": {},
   "source": [
    "- grep can also be used to print consecutive lines within a file either before or after the occurance of a specificed string. For instance, in our README.md file we have the following output:"
   ]
  },
  {
   "cell_type": "code",
   "execution_count": 12,
   "metadata": {
    "collapsed": false
   },
   "outputs": [
    {
     "name": "stdout",
     "output_type": "stream",
     "text": [
      "# Simple MD Program\r\n",
      "\r\n",
      "* This is a very basic NVE moleculer dynamics program that will\r\n",
      "be used for the course I teach in the spring.\r\n",
      "\r\n",
      "* This program borrows heavily from David Keffer's \"The Working Person's \r\n",
      "Guide to Molecular Dynamics Simulations\", although I have written the program in a different\r\n",
      "language and also expanded/replaced certain parts of the program.\r\n",
      "\r\n",
      "* The idea for the class is that students will start with this basic\r\n",
      "serial version of the code and then add parallel support with PThreads,\r\n",
      "OpenMP, MPI, CUDA, or whatever.\r\n",
      "\r\n",
      "## Project Layout\r\n",
      "\r\n",
      "- **bin/**: binary built to this directory.\r\n",
      "- **images/**: photo gallery of simulation snapshots.\r\n",
      "- **inc/**: contains header files with function prototypes, struct definitions, etc.\r\n",
      "- **obj/**: object files stored in this directory.\r\n",
      "- **src/**: source files.\r\n",
      "- **Makefile**: automated build script.\r\n",
      "- **simulate.sh**: shell script with examples for running program.\r\n",
      "\r\n",
      "## Building Program\r\n",
      "\r\n",
      "To build simply type:\r\n",
      "\r\n",
      "```\r\n",
      "make\r\n",
      "```\r\n",
      "\r\n",
      "If this is your first time to build the program you should see:\r\n",
      "\r\n",
      "```\r\n",
      "$ make\r\n",
      "gcc -Iinc -lm -Wall -c src/atoms.c -o obj/atoms.o\r\n",
      "gcc -Iinc -lm -Wall -c src/cl_parse.c -o obj/cl_parse.o\r\n",
      "gcc -Iinc -lm -Wall -c src/energy_force.c -o obj/energy_force.o\r\n",
      "gcc -Iinc -lm -Wall -c src/initialization.c -o obj/initialization.o\r\n",
      "gcc -Iinc -lm -Wall -c src/integrator.c -o obj/integrator.o\r\n",
      "gcc -Iinc -lm -Wall -c src/mddriver.c -o obj/mddriver.o\r\n",
      "gcc -Iinc -lm -Wall -c src/params.c -o obj/params.o\r\n",
      "gcc -Iinc -lm -Wall -c src/print_traj.c -o obj/print_traj.o\r\n",
      "gcc -Iinc -lm -Wall -c src/props.c -o obj/props.o\r\n",
      "gcc -Iinc -lm -Wall -c src/timer.c -o obj/timer.o\r\n",
      "gcc -lm  obj/atoms.o obj/cl_parse.o obj/energy_force.o obj/initialization.o obj/integrator.o obj/mddriver.o obj/params.o obj/print_traj.o obj/props.o obj/timer.o -o bin/run_md\r\n",
      "```\r\n",
      "\r\n",
      "If you have not edited any files since last running make, then you should see:\r\n",
      "\r\n",
      "```\r\n",
      "$ make\r\n",
      "make: `bin/run_md' is up to date.\r\n",
      "```\r\n",
      "\r\n",
      "Make automates the build process, so if you only edit a single source file, only that source file will be recompiled. If you want to blow away all the object files and the program binary, you can run:\r\n",
      "\r\n",
      "```\r\n",
      "$ make cleanall\r\n",
      "```\r\n",
      "\r\n",
      "while\r\n",
      "\r\n",
      "```\r\n",
      "$ make clean\r\n",
      "```\r\n",
      "\r\n",
      "will remove just the binary in **bin/**.\r\n",
      "\r\n",
      "## Usage\r\n",
      "\r\n",
      "To run from the project root directory simply type:\r\n",
      "\r\n",
      "```\r\n",
      "bin/run_md\r\n",
      "```\r\n",
      "\r\n",
      "This will run the program with default parameters. To see a list of command-line options and a list of defaults, pass **--help** as a command-line argument:\r\n",
      "\r\n",
      "```\r\n",
      "$ bin/run_md --help\r\n",
      "Usage: ./run_md [-N <n_particles>] [-ts <n_timesteps>] [-xyz <xyz_file_output_frequency>] [-o <thermo_output_frequency>]\r\n",
      "Defaults:\r\n",
      "n_particles: 100\r\n",
      "n_timesteps: 10000\r\n",
      "xyz_file_output_fequency: 100\r\n",
      "thermo_output_frequency: 100\r\n",
      "```\r\n",
      "\r\n",
      "The project root directory also contains a Bash script for running a number of pre-determined simulations. To run with the default parameters simply type:\r\n",
      "\r\n",
      "```\r\n",
      "bash simulate.sh\r\n",
      "```\r\n",
      "\r\n",
      "## Output\r\n",
      "\r\n",
      "Below is an example of the output from a simulation with the default parameters using GCC 4.4.7 with no optimization on a Intel Xeon E5620 @ 2.40GHz.\r\n",
      "\r\n",
      "```\r\n",
      "[frenchwr@vmps10 md]$ bash simulate.sh \r\n",
      "running: bin/run_md -N 125\r\n",
      "=======Command line arguments=======\r\n",
      "N_atoms: 125\r\n",
      "n_timesteps: 10000\r\n",
      "xyz_file_output_frequency: 100\r\n",
      "thermo_output_frequency: 100\r\n",
      "====================================\r\n",
      "box length: 2.419e+01 Angstrom\r\n",
      "density: 8.832e-03 molecules/Ang^3\r\n",
      "Beginning simulation....\r\n",
      " Timestep     KE          PE        TotE        Temp   Pressure\r\n",
      "      0   3.883e-01  -8.432e-01  -4.54901e-01  150.00  -7.240e-05\r\n",
      "    100   2.790e-01  -7.329e-01  -4.53904e-01  107.78  -7.789e-06\r\n",
      "    200   3.488e-01  -8.022e-01  -4.53412e-01  134.75  -1.379e-05\r\n",
      "    300   3.913e-01  -8.446e-01  -4.53270e-01  151.15  -1.782e-05\r\n",
      "    400   3.670e-01  -8.203e-01  -4.53274e-01  141.76  -3.988e-06\r\n",
      "    500   3.754e-01  -8.286e-01  -4.53236e-01  145.01  -7.795e-06\r\n",
      "    600   3.850e-01  -8.383e-01  -4.53259e-01  148.73  -8.743e-06\r\n",
      "    700   3.775e-01  -8.308e-01  -4.53237e-01  145.83  -1.073e-06\r\n",
      "    800   4.006e-01  -8.539e-01  -4.53247e-01  154.75  -5.536e-06\r\n",
      "    900   3.634e-01  -8.167e-01  -4.53250e-01  140.38  8.770e-06\r\n",
      "   1000   3.879e-01  -8.412e-01  -4.53294e-01  149.84  -2.372e-06\r\n",
      "   1100   3.943e-01  -8.476e-01  -4.53267e-01  152.33  -6.303e-06\r\n",
      "   1200   3.781e-01  -8.314e-01  -4.53226e-01  146.07  -2.062e-06\r\n",
      "   1300   3.886e-01  -8.419e-01  -4.53277e-01  150.13  -3.920e-06\r\n",
      "   1400   3.756e-01  -8.289e-01  -4.53264e-01  145.09  4.032e-06\r\n",
      "   1500   3.950e-01  -8.483e-01  -4.53284e-01  152.57  -7.619e-06\r\n",
      "   1600   3.804e-01  -8.336e-01  -4.53252e-01  146.93  -4.261e-06\r\n",
      "   1700   3.877e-01  -8.410e-01  -4.53306e-01  149.78  -7.130e-06\r\n",
      "   1800   3.795e-01  -8.329e-01  -4.53360e-01  146.61  6.970e-06\r\n",
      "   1900   4.003e-01  -8.536e-01  -4.53320e-01  154.63  -1.702e-06\r\n",
      "   2000   3.875e-01  -8.408e-01  -4.53274e-01  149.68  5.651e-06\r\n",
      "   2100   4.062e-01  -8.595e-01  -4.53301e-01  156.91  -3.320e-06\r\n",
      "   2200   3.882e-01  -8.415e-01  -4.53267e-01  149.97  4.631e-06\r\n",
      "   2300   3.997e-01  -8.530e-01  -4.53264e-01  154.42  -2.549e-06\r\n",
      "   2400   4.112e-01  -8.645e-01  -4.53298e-01  158.84  -7.109e-06\r\n",
      "   2500   4.067e-01  -8.600e-01  -4.53296e-01  157.12  -1.185e-06\r\n",
      "   2600   4.078e-01  -8.611e-01  -4.53295e-01  157.55  -2.100e-06\r\n",
      "   2700   4.009e-01  -8.542e-01  -4.53266e-01  154.87  -6.252e-07\r\n",
      "   2800   4.122e-01  -8.655e-01  -4.53313e-01  159.24  7.340e-07\r\n",
      "   2900   3.936e-01  -8.469e-01  -4.53310e-01  152.03  1.425e-06\r\n",
      "   3000   3.914e-01  -8.447e-01  -4.53338e-01  151.18  5.180e-06\r\n",
      "   3100   4.077e-01  -8.610e-01  -4.53313e-01  157.48  6.553e-07\r\n",
      "   3200   3.946e-01  -8.479e-01  -4.53281e-01  152.43  2.449e-06\r\n",
      "   3300   3.893e-01  -8.425e-01  -4.53243e-01  150.37  -4.636e-06\r\n",
      "   3400   4.093e-01  -8.625e-01  -4.53203e-01  158.12  -1.571e-05\r\n",
      "   3500   3.628e-01  -8.160e-01  -4.53259e-01  140.14  4.630e-06\r\n",
      "   3600   3.925e-01  -8.457e-01  -4.53248e-01  151.61  -7.838e-06\r\n",
      "   3700   3.749e-01  -8.282e-01  -4.53250e-01  144.82  -5.539e-06\r\n",
      "   3800   3.874e-01  -8.406e-01  -4.53239e-01  149.64  -2.888e-08\r\n",
      "   3900   4.067e-01  -8.599e-01  -4.53220e-01  157.09  -5.110e-06\r\n",
      "   4000   4.027e-01  -8.559e-01  -4.53243e-01  155.54  -4.423e-06\r\n",
      "   4100   3.806e-01  -8.338e-01  -4.53242e-01  147.01  6.911e-06\r\n",
      "   4200   3.929e-01  -8.461e-01  -4.53235e-01  151.77  -6.156e-06\r\n",
      "   4300   3.868e-01  -8.401e-01  -4.53255e-01  149.43  -5.675e-06\r\n",
      "   4400   3.915e-01  -8.447e-01  -4.53232e-01  151.23  -5.125e-06\r\n",
      "   4500   3.948e-01  -8.480e-01  -4.53245e-01  152.51  -2.586e-07\r\n",
      "   4600   3.795e-01  -8.327e-01  -4.53226e-01  146.60  2.143e-06\r\n",
      "   4700   3.847e-01  -8.379e-01  -4.53249e-01  148.60  -5.358e-06\r\n",
      "   4800   3.860e-01  -8.392e-01  -4.53235e-01  149.09  7.694e-07\r\n",
      "   4900   3.899e-01  -8.431e-01  -4.53258e-01  150.59  -3.229e-06\r\n",
      "   5000   3.829e-01  -8.362e-01  -4.53322e-01  147.92  8.065e-07\r\n",
      "   5100   3.987e-01  -8.520e-01  -4.53291e-01  154.00  -2.326e-06\r\n",
      "   5200   3.938e-01  -8.471e-01  -4.53247e-01  152.14  3.772e-06\r\n",
      "   5300   3.791e-01  -8.323e-01  -4.53232e-01  146.45  6.586e-06\r\n",
      "   5400   3.723e-01  -8.257e-01  -4.53305e-01  143.83  4.653e-06\r\n",
      "   5500   4.049e-01  -8.582e-01  -4.53289e-01  156.41  -4.113e-06\r\n",
      "   5600   3.983e-01  -8.515e-01  -4.53253e-01  153.84  -6.733e-06\r\n",
      "   5700   3.691e-01  -8.223e-01  -4.53198e-01  142.58  -2.884e-06\r\n",
      "   5800   3.875e-01  -8.407e-01  -4.53179e-01  149.68  -1.105e-05\r\n",
      "   5900   3.932e-01  -8.464e-01  -4.53210e-01  151.87  -1.305e-05\r\n",
      "   6000   3.713e-01  -8.246e-01  -4.53263e-01  143.43  -6.830e-07\r\n",
      "   6100   3.772e-01  -8.305e-01  -4.53275e-01  145.71  -2.825e-06\r\n",
      "   6200   3.830e-01  -8.362e-01  -4.53247e-01  147.94  -1.005e-05\r\n",
      "   6300   3.893e-01  -8.425e-01  -4.53222e-01  150.39  -1.361e-05\r\n",
      "   6400   3.716e-01  -8.249e-01  -4.53231e-01  143.56  -1.096e-05\r\n",
      "   6500   3.685e-01  -8.217e-01  -4.53238e-01  142.34  -1.192e-05\r\n",
      "   6600   3.746e-01  -8.278e-01  -4.53249e-01  144.69  -1.545e-05\r\n",
      "   6700   3.664e-01  -8.196e-01  -4.53227e-01  141.53  -1.215e-05\r\n",
      "   6800   3.573e-01  -8.105e-01  -4.53258e-01  138.00  -4.989e-06\r\n",
      "   6900   3.700e-01  -8.233e-01  -4.53256e-01  142.94  -9.059e-06\r\n",
      "   7000   3.713e-01  -8.246e-01  -4.53278e-01  143.43  -1.882e-06\r\n",
      "   7100   3.985e-01  -8.518e-01  -4.53257e-01  153.95  -7.574e-06\r\n",
      "   7200   3.984e-01  -8.517e-01  -4.53299e-01  153.91  -7.369e-06\r\n",
      "   7300   3.848e-01  -8.381e-01  -4.53301e-01  148.65  2.548e-06\r\n",
      "   7400   3.888e-01  -8.421e-01  -4.53328e-01  150.20  -3.761e-06\r\n",
      "   7500   3.859e-01  -8.392e-01  -4.53286e-01  149.06  -5.358e-06\r\n",
      "   7600   3.845e-01  -8.378e-01  -4.53288e-01  148.52  -5.018e-06\r\n",
      "   7700   3.688e-01  -8.222e-01  -4.53382e-01  142.47  4.063e-06\r\n",
      "   7800   3.971e-01  -8.504e-01  -4.53355e-01  153.38  -1.063e-05\r\n",
      "   7900   3.769e-01  -8.302e-01  -4.53262e-01  145.61  -5.815e-06\r\n",
      "   8000   3.921e-01  -8.454e-01  -4.53275e-01  151.48  -9.699e-06\r\n",
      "   8100   4.077e-01  -8.609e-01  -4.53248e-01  157.48  -9.742e-06\r\n",
      "   8200   3.975e-01  -8.508e-01  -4.53256e-01  153.56  -6.213e-06\r\n",
      "   8300   3.933e-01  -8.466e-01  -4.53227e-01  151.94  -1.480e-05\r\n",
      "   8400   3.794e-01  -8.327e-01  -4.53269e-01  146.57  -1.214e-05\r\n",
      "   8500   3.884e-01  -8.416e-01  -4.53245e-01  150.03  -1.574e-05\r\n",
      "   8600   3.645e-01  -8.177e-01  -4.53195e-01  140.80  6.260e-07\r\n",
      "   8700   4.011e-01  -8.543e-01  -4.53228e-01  154.94  -1.170e-06\r\n",
      "   8800   3.558e-01  -8.090e-01  -4.53201e-01  137.44  1.323e-05\r\n",
      "   8900   4.105e-01  -8.637e-01  -4.53233e-01  158.56  -5.024e-06\r\n",
      "   9000   3.994e-01  -8.527e-01  -4.53275e-01  154.28  -5.071e-06\r\n",
      "   9100   3.709e-01  -8.242e-01  -4.53266e-01  143.29  4.368e-06\r\n",
      "   9200   3.877e-01  -8.410e-01  -4.53269e-01  149.78  -4.374e-06\r\n",
      "   9300   3.713e-01  -8.245e-01  -4.53239e-01  143.43  6.201e-06\r\n",
      "   9400   3.858e-01  -8.390e-01  -4.53186e-01  149.04  -7.370e-06\r\n",
      "   9500   3.856e-01  -8.389e-01  -4.53262e-01  148.95  -1.216e-05\r\n",
      "   9600   3.871e-01  -8.404e-01  -4.53272e-01  149.55  -7.571e-06\r\n",
      "   9700   3.911e-01  -8.443e-01  -4.53223e-01  151.06  -6.837e-06\r\n",
      "   9800   3.860e-01  -8.392e-01  -4.53197e-01  149.13  -7.472e-07\r\n",
      "   9900   4.124e-01  -8.656e-01  -4.53237e-01  159.31  -9.298e-06\r\n",
      "  10000   3.943e-01  -8.476e-01  -4.53270e-01  152.33  2.394e-06\r\n",
      "Simulation Complete!\r\n",
      "Total simulation time:              8.014 secs\r\n",
      "Force/energy time:                  7.910 secs (98.70%)\r\n",
      "Position/velocity update time:      0.086 secs ( 1.07%)\r\n",
      "Thermo/trajectory output time:      0.016 secs ( 0.20%)\r\n",
      "```\r\n",
      "\r\n",
      "## Viewing Simulation\r\n",
      "\r\n",
      "Copy the traj.xyz file to your local machine and visualize the simulation with free \r\n",
      "software like Visual Molecular Dynamic (http://www.ks.uiuc.edu/Research/vmd/). Here are a few example\r\n",
      "snapshots:\r\n",
      "\r\n",
      "### 125 Atoms \r\n",
      "![125 atoms](/images/125atoms.png?raw=true \"125 Atoms\")\r\n",
      "\r\n",
      "### 5000 Atoms \r\n",
      "![5000 atoms](/images/5000atoms.png?raw=true \"5000 Atoms\")\r\n"
     ]
    }
   ],
   "source": [
    "%cat README.md"
   ]
  },
  {
   "cell_type": "markdown",
   "metadata": {},
   "source": [
    "- Let's say we'd like to compute some statistics in the example output from a simulation shown in the REAME.md file. To start, we first need to grab the lines containing the numeric data we care about. "
   ]
  },
  {
   "cell_type": "code",
   "execution_count": 13,
   "metadata": {
    "collapsed": false
   },
   "outputs": [
    {
     "name": "stdout",
     "output_type": "stream",
     "text": [
      "      0   3.883e-01  -8.432e-01  -4.54901e-01  150.00  -7.240e-05\n",
      "    100   2.790e-01  -7.329e-01  -4.53904e-01  107.78  -7.789e-06\n",
      "    200   3.488e-01  -8.022e-01  -4.53412e-01  134.75  -1.379e-05\n",
      "    300   3.913e-01  -8.446e-01  -4.53270e-01  151.15  -1.782e-05\n",
      "    400   3.670e-01  -8.203e-01  -4.53274e-01  141.76  -3.988e-06\n",
      "    500   3.754e-01  -8.286e-01  -4.53236e-01  145.01  -7.795e-06\n",
      "    600   3.850e-01  -8.383e-01  -4.53259e-01  148.73  -8.743e-06\n",
      "    700   3.775e-01  -8.308e-01  -4.53237e-01  145.83  -1.073e-06\n",
      "    800   4.006e-01  -8.539e-01  -4.53247e-01  154.75  -5.536e-06\n",
      "    900   3.634e-01  -8.167e-01  -4.53250e-01  140.38  8.770e-06\n"
     ]
    }
   ],
   "source": [
    "%%bash\n",
    "# -A option prints n lines after matched line\n",
    "# -B option prints n lines before matched line\n",
    "# -v option is a reverse match (i.e match lines not containing specified string)\n",
    "grep -A 1000 \"Timestep\" README.md | grep -B 1000 \"Simulation Complete\" | egrep -v \"Timestep|Simulation Complete\" | head"
   ]
  },
  {
   "cell_type": "markdown",
   "metadata": {},
   "source": [
    "- Voila! We used a combination of grep and egrep (extended grep) to pull out the pertinent lines. \n",
    "- This works but it's a little cumbersome and prone to error if we can't predict the number of lines we'll be grabbing ahead of time.\n",
    "- Let's try with sed and/or awk instead.\n",
    "- sed is a search and replace tool. We are not going to focus much on sed in this demo, but it can be used in the following way to extract the lines we are interested in. "
   ]
  },
  {
   "cell_type": "code",
   "execution_count": 14,
   "metadata": {
    "collapsed": false
   },
   "outputs": [
    {
     "name": "stdout",
     "output_type": "stream",
     "text": [
      "      0   3.883e-01  -8.432e-01  -4.54901e-01  150.00  -7.240e-05\n",
      "    100   2.790e-01  -7.329e-01  -4.53904e-01  107.78  -7.789e-06\n",
      "    200   3.488e-01  -8.022e-01  -4.53412e-01  134.75  -1.379e-05\n",
      "    300   3.913e-01  -8.446e-01  -4.53270e-01  151.15  -1.782e-05\n",
      "    400   3.670e-01  -8.203e-01  -4.53274e-01  141.76  -3.988e-06\n",
      "    500   3.754e-01  -8.286e-01  -4.53236e-01  145.01  -7.795e-06\n",
      "    600   3.850e-01  -8.383e-01  -4.53259e-01  148.73  -8.743e-06\n",
      "    700   3.775e-01  -8.308e-01  -4.53237e-01  145.83  -1.073e-06\n",
      "    800   4.006e-01  -8.539e-01  -4.53247e-01  154.75  -5.536e-06\n",
      "    900   3.634e-01  -8.167e-01  -4.53250e-01  140.38  8.770e-06\n"
     ]
    },
    {
     "name": "stderr",
     "output_type": "stream",
     "text": [
      "sed: couldn't flush stdout: Broken pipe\n"
     ]
    }
   ],
   "source": [
    "%%bash\n",
    "sed -n '/Timestep/,/Simulation Complete/{/Timestep/b;/Simulation Complete/b;p}' README.md | head"
   ]
  },
  {
   "cell_type": "markdown",
   "metadata": {},
   "source": [
    "- In its most common application, ```sed``` is used as a search and replace tool:"
   ]
  },
  {
   "cell_type": "code",
   "execution_count": 62,
   "metadata": {
    "collapsed": false
   },
   "outputs": [
    {
     "name": "stdout",
     "output_type": "stream",
     "text": [
      "Original line:\n",
      " Timestep     KE          PE        TotE        Temp   Pressure\n",
      "Updated line:\n",
      " Column_1     KE          PE        TotE        Temp   Pressure\n"
     ]
    }
   ],
   "source": [
    "%%bash\n",
    "echo 'Original line:'\n",
    "grep Pressure README.md\n",
    "echo 'Updated line:'\n",
    "sed 's/Timestep/Column_1/' README.md | grep Pressure"
   ]
  },
  {
   "cell_type": "code",
   "execution_count": 71,
   "metadata": {
    "collapsed": false
   },
   "outputs": [
    {
     "name": "stdout",
     "output_type": "stream",
     "text": [
      "Original line:\n",
      "This will run the program with default parameters. To see a list of command-line options and a list of defaults, pass **--help** as a command-line argument:\n",
      "\n",
      "Updated line:\n",
      "This will run the program with default parameters. To see A LIST of command-line options and a list of defaults, pass **--help** as a command-line argument:\n",
      "\n",
      "Final line:\n",
      "This will run the program with default parameters. To see A LIST of command-line options and A LIST of defaults, pass **--help** as a command-line argument:\n"
     ]
    }
   ],
   "source": [
    "%%bash\n",
    "echo 'Original line:'\n",
    "grep 'run the program with default parameters' README.md\n",
    "echo -e '\\nUpdated line:'\n",
    "sed 's/a list/A LIST/' README.md | grep 'run the program with default parameters'\n",
    "echo -e '\\nFinal line:'\n",
    "sed 's/a list/A LIST/g' README.md | grep 'run the program with default parameters'"
   ]
  },
  {
   "cell_type": "markdown",
   "metadata": {},
   "source": [
    "- ```awk``` can also be used to pull out the lines of output we want with slightly less code than ```grep``` and ```sed```. Think of ```awk``` as a tool that perform line-line-analysis on files, and print useful information along the way.\n",
    "- Here, we are using awk to match the same strings as before and then using a simple dummy variable to instruct ```awk``` to print lines of output between the lines containing these strings."
   ]
  },
  {
   "cell_type": "code",
   "execution_count": 15,
   "metadata": {
    "collapsed": false
   },
   "outputs": [
    {
     "name": "stdout",
     "output_type": "stream",
     "text": [
      "      0   3.883e-01  -8.432e-01  -4.54901e-01  150.00  -7.240e-05\n",
      "    100   2.790e-01  -7.329e-01  -4.53904e-01  107.78  -7.789e-06\n",
      "    200   3.488e-01  -8.022e-01  -4.53412e-01  134.75  -1.379e-05\n",
      "    300   3.913e-01  -8.446e-01  -4.53270e-01  151.15  -1.782e-05\n",
      "    400   3.670e-01  -8.203e-01  -4.53274e-01  141.76  -3.988e-06\n",
      "    500   3.754e-01  -8.286e-01  -4.53236e-01  145.01  -7.795e-06\n",
      "    600   3.850e-01  -8.383e-01  -4.53259e-01  148.73  -8.743e-06\n",
      "    700   3.775e-01  -8.308e-01  -4.53237e-01  145.83  -1.073e-06\n",
      "    800   4.006e-01  -8.539e-01  -4.53247e-01  154.75  -5.536e-06\n",
      "    900   3.634e-01  -8.167e-01  -4.53250e-01  140.38  8.770e-06\n"
     ]
    },
    {
     "name": "stderr",
     "output_type": "stream",
     "text": [
      "awk: (FILENAME=README.md FNR=231) warning: error writing standard output (Broken pipe)\n"
     ]
    }
   ],
   "source": [
    "%%bash\n",
    "# variable f controls which records are shown\n",
    "awk '/Timestep/{f=1;next} /Simulation Complete/{f=0} f' README.md | head"
   ]
  },
  {
   "cell_type": "code",
   "execution_count": 16,
   "metadata": {
    "collapsed": false
   },
   "outputs": [
    {
     "name": "stdout",
     "output_type": "stream",
     "text": [
      "********Thermo stats (mean/std)********\n",
      "KE: 0.386036 / 0.0171719\n",
      "PE: -0.839323 / 0.017134\n",
      "TotE: -0.453286 / 0.000177977\n",
      "Temp: 149.123 / 6.6329\n",
      "Pres: -4.58708e-06 / 9.11028e-06\n"
     ]
    }
   ],
   "source": [
    "%%bash\n",
    "awk '/Timestep/{f=1;next} /Simulation Complete/{f=0} f' README.md > nums.txt\n",
    "echo \"********Thermo stats (mean/std)********\"\n",
    "awk '{mean += $2; sumsq+=$2*$2} END {print \"KE: \" mean/NR,\"/\",sqrt(sumsq/NR - (mean/NR)**2)}' nums.txt\n",
    "awk '{mean += $3; sumsq+=$3*$3} END {print \"PE: \" mean/NR,\"/\",sqrt(sumsq/NR - (mean/NR)**2)}' nums.txt\n",
    "awk '{mean += $4; sumsq+=$4*$4} END {print \"TotE: \" mean/NR,\"/\",sqrt(sumsq/NR - (mean/NR)**2)}' nums.txt\n",
    "awk '{mean += $5; sumsq+=$5*$5} END {print \"Temp: \" mean/NR,\"/\",sqrt(sumsq/NR - (mean/NR)**2)}' nums.txt\n",
    "awk '{mean += $6; sumsq+=$6*$6} END {print \"Pres: \" mean/NR,\"/\",sqrt(sumsq/NR - (mean/NR)**2)}' nums.txt"
   ]
  },
  {
   "cell_type": "markdown",
   "metadata": {},
   "source": [
    "- The first block of code is executed for each line in nums.txt, while the code inside the END block is executed once after the entire file has been processed.\n",
    "- For each line of input, awk allows you to match a string (optional) and then perform some action on the corresponding record (i.e. line).\n",
    "- awk supports a bunch of built-in functions like sqrt(), rand(), etc. \n",
    "- awk also supports a bunch of built-in variables like NR (current record number being processed) shown above. You can also pass your own variables to awk from the shell:"
   ]
  },
  {
   "cell_type": "code",
   "execution_count": 17,
   "metadata": {
    "collapsed": false
   },
   "outputs": [
    {
     "name": "stdout",
     "output_type": "stream",
     "text": [
      "Temp in C: -123.15\n",
      "Temp in C: -165.37\n",
      "Temp in C: -138.4\n",
      "Temp in C: -122\n",
      "Temp in C: -131.39\n",
      "Temp in C: -128.14\n",
      "Temp in C: -124.42\n",
      "Temp in C: -127.32\n",
      "Temp in C: -118.4\n",
      "Temp in C: -132.77\n"
     ]
    }
   ],
   "source": [
    "%%bash\n",
    "# convert temperatures from Kelvin to Celsius\n",
    "K_to_C=\"273.15\"\n",
    "awk -v temp_conv=\"$K_to_C\" '{print \"Temp in C: \" $5-temp_conv}' nums.txt | head   # print first ten lines of output"
   ]
  },
  {
   "cell_type": "code",
   "execution_count": 18,
   "metadata": {
    "collapsed": false
   },
   "outputs": [
    {
     "name": "stdout",
     "output_type": "stream",
     "text": [
      "0 -7.240e-05\n",
      "100 -7.789e-06\n",
      "200 -1.379e-05\n",
      "300 -1.782e-05\n",
      "400 -3.988e-06\n",
      "500 -7.795e-06\n",
      "600 -8.743e-06\n",
      "700 -1.073e-06\n",
      "800 -5.536e-06\n",
      "900 8.770e-06\n"
     ]
    }
   ],
   "source": [
    "%%bash\n",
    "# simple use case for awk is to pull out fields of data you care about for plotting and so on.\n",
    "awk '{print $1,$6}' nums.txt | head    # print first ten lines of output for brevity"
   ]
  },
  {
   "cell_type": "code",
   "execution_count": 19,
   "metadata": {
    "collapsed": false
   },
   "outputs": [
    {
     "name": "stdout",
     "output_type": "stream",
     "text": [
      "0,-7.240e-05\n",
      "100,-7.789e-06\n",
      "200,-1.379e-05\n",
      "300,-1.782e-05\n",
      "400,-3.988e-06\n",
      "500,-7.795e-06\n",
      "600,-8.743e-06\n",
      "700,-1.073e-06\n",
      "800,-5.536e-06\n",
      "900,8.770e-06\n"
     ]
    }
   ],
   "source": [
    "%%bash\n",
    "# save output in a csv format\n",
    "awk '{print $1\",\"$6}' nums.txt > nums.csv   \n",
    "head nums.csv  "
   ]
  },
  {
   "cell_type": "code",
   "execution_count": 20,
   "metadata": {
    "collapsed": false
   },
   "outputs": [
    {
     "name": "stdout",
     "output_type": "stream",
     "text": [
      "0 -7.240e-05\n",
      "100 -7.789e-06\n",
      "200 -1.379e-05\n",
      "300 -1.782e-05\n",
      "400 -3.988e-06\n",
      "500 -7.795e-06\n",
      "600 -8.743e-06\n",
      "700 -1.073e-06\n",
      "800 -5.536e-06\n",
      "900 8.770e-06\n"
     ]
    }
   ],
   "source": [
    "%%bash\n",
    "# Feed awk a different field separator\n",
    "awk -F\",\" '{print $1,$2}' nums.csv | head   # convert back to whitespace field separators"
   ]
  },
  {
   "cell_type": "code",
   "execution_count": 21,
   "metadata": {
    "collapsed": false
   },
   "outputs": [
    {
     "name": "stdout",
     "output_type": "stream",
     "text": [
      "      0   3.883e-01  -8.432e-01  -4.54901e-01  150.00  -7.240e-05\n",
      "    100   2.790e-01  -7.329e-01  -4.53904e-01  107.78  -7.789e-06\n",
      "    200   3.488e-01  -8.022e-01  -4.53412e-01  134.75  -1.379e-05\n",
      "    300   3.913e-01  -8.446e-01  -4.53270e-01  151.15  -1.782e-05\n",
      "    400   3.670e-01  -8.203e-01  -4.53274e-01  141.76  -3.988e-06\n",
      "    500   3.754e-01  -8.286e-01  -4.53236e-01  145.01  -7.795e-06\n",
      "    600   3.850e-01  -8.383e-01  -4.53259e-01  148.73  -8.743e-06\n",
      "    700   3.775e-01  -8.308e-01  -4.53237e-01  145.83  -1.073e-06\n",
      "    800   4.006e-01  -8.539e-01  -4.53247e-01  154.75  -5.536e-06\n",
      "    900   3.634e-01  -8.167e-01  -4.53250e-01  140.38  8.770e-06\n"
     ]
    }
   ],
   "source": [
    "%%bash\n",
    "# note that awk print records if its entire expression evaluates to a non-zero number\n",
    "awk '1' nums.txt | head"
   ]
  },
  {
   "cell_type": "code",
   "execution_count": 22,
   "metadata": {
    "collapsed": false
   },
   "outputs": [
    {
     "name": "stdout",
     "output_type": "stream",
     "text": [
      "    100   2.790e-01  -7.329e-01  -4.53904e-01  107.78  -7.789e-06\n",
      "    300   3.913e-01  -8.446e-01  -4.53270e-01  151.15  -1.782e-05\n",
      "    500   3.754e-01  -8.286e-01  -4.53236e-01  145.01  -7.795e-06\n",
      "    700   3.775e-01  -8.308e-01  -4.53237e-01  145.83  -1.073e-06\n",
      "    900   3.634e-01  -8.167e-01  -4.53250e-01  140.38  8.770e-06\n",
      "   1100   3.943e-01  -8.476e-01  -4.53267e-01  152.33  -6.303e-06\n",
      "   1300   3.886e-01  -8.419e-01  -4.53277e-01  150.13  -3.920e-06\n",
      "   1500   3.950e-01  -8.483e-01  -4.53284e-01  152.57  -7.619e-06\n",
      "   1700   3.877e-01  -8.410e-01  -4.53306e-01  149.78  -7.130e-06\n",
      "   1900   4.003e-01  -8.536e-01  -4.53320e-01  154.63  -1.702e-06\n"
     ]
    }
   ],
   "source": [
    "%%bash\n",
    "# only print even lines of output\n",
    "awk 'NR % 2 == 0' nums.txt | head    # use modulo operator to compare remainder of NR/2 operation"
   ]
  },
  {
   "cell_type": "code",
   "execution_count": 23,
   "metadata": {
    "collapsed": false
   },
   "outputs": [
    {
     "name": "stdout",
     "output_type": "stream",
     "text": [
      "      0   3.883e-01  -8.432e-01  -4.54901e-01  150.00  -7.240e-05\n",
      "    200   3.488e-01  -8.022e-01  -4.53412e-01  134.75  -1.379e-05\n",
      "    400   3.670e-01  -8.203e-01  -4.53274e-01  141.76  -3.988e-06\n",
      "    600   3.850e-01  -8.383e-01  -4.53259e-01  148.73  -8.743e-06\n",
      "    800   4.006e-01  -8.539e-01  -4.53247e-01  154.75  -5.536e-06\n",
      "   1000   3.879e-01  -8.412e-01  -4.53294e-01  149.84  -2.372e-06\n",
      "   1200   3.781e-01  -8.314e-01  -4.53226e-01  146.07  -2.062e-06\n",
      "   1400   3.756e-01  -8.289e-01  -4.53264e-01  145.09  4.032e-06\n",
      "   1600   3.804e-01  -8.336e-01  -4.53252e-01  146.93  -4.261e-06\n",
      "   1800   3.795e-01  -8.329e-01  -4.53360e-01  146.61  6.970e-06\n"
     ]
    }
   ],
   "source": [
    "%%bash\n",
    "# only print odd lines of output\n",
    "awk 'NR % 2 == 1' nums.txt | head    # use modulo operator to compare remainder of NR/2 operation"
   ]
  },
  {
   "cell_type": "code",
   "execution_count": 24,
   "metadata": {
    "collapsed": false
   },
   "outputs": [
    {
     "name": "stdout",
     "output_type": "stream",
     "text": [
      "gcc -lm  obj/atoms.o obj/cl_parse.o obj/energy_force.o obj/initialization.o obj/integrator.o obj/mddriver.o obj/params.o obj/print_traj.o obj/props.o obj/timer.o -o bin/run_md\n",
      "Make automates the build process, so if you only edit a single source file, only that source file will be recompiled. If you want to blow away all the object files and the program binary, you can run:\n",
      "This will run the program with default parameters. To see a list of command-line options and a list of defaults, pass **--help** as a command-line argument:\n",
      "The project root directory also contains a Bash script for running a number of pre-determined simulations. To run with the default parameters simply type:\n",
      "Below is an example of the output from a simulation with the default parameters using GCC 4.4.7 with no optimization on a Intel Xeon E5620 @ 2.40GHz.\n"
     ]
    }
   ],
   "source": [
    "%%bash\n",
    "# it is often convenient to print only lines of a certain length\n",
    "awk 'length($0) > 120' README.md   # only print lines greater than 120 characters"
   ]
  },
  {
   "cell_type": "code",
   "execution_count": 25,
   "metadata": {
    "collapsed": false
   },
   "outputs": [
    {
     "name": "stdout",
     "output_type": "stream",
     "text": [
      "Make automates the build process, so if you only edit a single source file, only that source file will be recompiled. If you want to blow away all the object files and the program binary, you can run:\n"
     ]
    }
   ],
   "source": [
    "%%bash\n",
    "awk 'NF > 30' README.md   # only print lines with greater than 30 fields"
   ]
  },
  {
   "cell_type": "code",
   "execution_count": 26,
   "metadata": {
    "collapsed": false
   },
   "outputs": [
    {
     "name": "stdout",
     "output_type": "stream",
     "text": [
      "OpenMP\n",
      "Make automates the build process\n"
     ]
    }
   ],
   "source": [
    "%%bash\n",
    "# print first field of lines with greater than 3 fields where comma is field-separator\n",
    "awk -F\",\" 'NF > 3{print $1}' README.md   "
   ]
  },
  {
   "cell_type": "code",
   "execution_count": 27,
   "metadata": {
    "collapsed": false
   },
   "outputs": [
    {
     "name": "stdout",
     "output_type": "stream",
     "text": [
      "Simulation\n",
      "Simulation\n"
     ]
    }
   ],
   "source": [
    "%%bash\n",
    "# note that grep and awk are often used in sequence when awk can be used alone\n",
    "grep \"Simulation Complete!\" README.md | awk '{print $1}'\n",
    "awk '/Simulation Complete!/{print $1}' README.md"
   ]
  },
  {
   "cell_type": "markdown",
   "metadata": {
    "collapsed": true
   },
   "source": [
    "# Loops\n",
    "\n",
    "- To perform Unix/Bash commands over a series of files, loops are often needed.\n",
    "- Pattern matching (in particular a glob pattern using *) is limited in what it can accomplish."
   ]
  },
  {
   "cell_type": "code",
   "execution_count": 28,
   "metadata": {
    "collapsed": false
   },
   "outputs": [
    {
     "name": "stdout",
     "output_type": "stream",
     "text": [
      "total 52K\n",
      "drwxr-xr-x. 2 frenchwr accre  512 Dec 22 17:41 bin\n",
      "drwxr-xr-x. 2 frenchwr accre  512 Dec 22 17:41 images\n",
      "drwxr-xr-x. 2 frenchwr accre 2.0K Dec 22 17:41 inc\n",
      "-rw-r--r--. 1 frenchwr accre 1.1K Dec 22 17:41 Makefile\n",
      "-rw-r--r--. 1 frenchwr accre 1.6K Dec 27 15:00 nums.csv\n",
      "-rw-r--r--. 1 frenchwr accre 6.5K Dec 27 15:00 nums.txt\n",
      "drwxr-xr-x. 2 frenchwr accre  512 Dec 22 17:41 obj\n",
      "-rw-r--r--. 1 frenchwr accre  11K Dec 22 17:41 README.md\n",
      "-rw-r--r--. 1 frenchwr accre 6.5K Dec 23 07:06 sim-output.dat\n",
      "-rw-r--r--. 1 frenchwr accre  240 Dec 22 17:41 simulate.sh\n",
      "drwxr-xr-x. 2 frenchwr accre 2.0K Dec 22 17:41 src\n"
     ]
    }
   ],
   "source": [
    "%%bash\n",
    "ls -lh"
   ]
  },
  {
   "cell_type": "code",
   "execution_count": 29,
   "metadata": {
    "collapsed": false
   },
   "outputs": [
    {
     "name": "stdout",
     "output_type": "stream",
     "text": [
      "-rw-r--r--. 1 frenchwr accre 6.5K Dec 23 07:06 sim-output.dat\n",
      "-rw-r--r--. 1 frenchwr accre  240 Dec 22 17:41 simulate.sh\n"
     ]
    }
   ],
   "source": [
    "%%bash\n",
    "ls -lh sim*"
   ]
  },
  {
   "cell_type": "code",
   "execution_count": 30,
   "metadata": {
    "collapsed": false
   },
   "outputs": [
    {
     "name": "stderr",
     "output_type": "stream",
     "text": [
      "cp: target `newfiles*' is not a directory\n"
     ]
    }
   ],
   "source": [
    "%%bash\n",
    "cp sim* newfiles*"
   ]
  },
  {
   "cell_type": "markdown",
   "metadata": {},
   "source": [
    "- The above fails because the glob operator expands the pattern prior to passing it off to the shell to execute.\n",
    "- The above is actually attempting to run:\n",
    "\n",
    "```cp sim-output.dat simulate.sh newfiles*```\n",
    "\n",
    "- The ```cp``` command expects its final argument to be a directory if it receives more than two arguments."
   ]
  },
  {
   "cell_type": "code",
   "execution_count": 31,
   "metadata": {
    "collapsed": false
   },
   "outputs": [
    {
     "name": "stdout",
     "output_type": "stream",
     "text": [
      "-rw-r--r--. 1 frenchwr accre 6.5K Dec 27 15:00 newfiles-sim-output.dat\n",
      "-rw-r--r--. 1 frenchwr accre  240 Dec 27 15:00 newfiles-simulate.sh\n"
     ]
    }
   ],
   "source": [
    "%%bash\n",
    "for file in sim-output.dat simulate.sh\n",
    "do\n",
    "   cp $file newfiles-$file\n",
    "done\n",
    "ls -lh newfiles*\n",
    "rm newfiles*    # cleanup"
   ]
  },
  {
   "cell_type": "markdown",
   "metadata": {},
   "source": [
    "- It's often helpful to echo out the command that will be run before actually executing the loop."
   ]
  },
  {
   "cell_type": "code",
   "execution_count": 32,
   "metadata": {
    "collapsed": false
   },
   "outputs": [
    {
     "name": "stdout",
     "output_type": "stream",
     "text": [
      "Would be running: cp sim-output.dat newfiles-sim-output.dat\n",
      "Would be running: cp simulate.sh newfiles-simulate.sh\n"
     ]
    }
   ],
   "source": [
    "%%bash\n",
    "for file in sim*\n",
    "do\n",
    "   echo \"Would be running: cp $file newfiles-$file\"\n",
    "done"
   ]
  },
  {
   "cell_type": "markdown",
   "metadata": {},
   "source": [
    "- You can also loop over output from a command, line-by-line."
   ]
  },
  {
   "cell_type": "code",
   "execution_count": 33,
   "metadata": {
    "collapsed": false
   },
   "outputs": [
    {
     "name": "stdout",
     "output_type": "stream",
     "text": [
      "---First line of sim-output.dat:---\n",
      "      0   3.883e-01  -8.432e-01  -4.54901e-01  150.00  -7.240e-05\n",
      "---First line of simulate.sh:---\n",
      "#!/bin/bash\n"
     ]
    }
   ],
   "source": [
    "%%bash\n",
    "for file in $(ls sim*)\n",
    "do\n",
    "   echo \"---First line of $file:---\"\n",
    "   head -1 $file\n",
    "done"
   ]
  },
  {
   "cell_type": "code",
   "execution_count": 34,
   "metadata": {
    "collapsed": false
   },
   "outputs": [
    {
     "name": "stdout",
     "output_type": "stream",
     "text": [
      "Info about a single job:\n",
      "\n",
      "JobId=11690825 JobName=5her_aMD\n",
      "   UserId=hem5(454520) GroupId=p_meiler(10023) MCS_label=N/A\n",
      "   Priority=1 Nice=0 Account=csb_gpu QOS=csb_maxwell\n",
      "   JobState=RUNNING Reason=None Dependency=(null)\n",
      "   Requeue=1 Restarts=0 BatchFlag=1 Reboot=0 ExitCode=0:0\n",
      "   RunTime=4-15:34:34 TimeLimit=5-00:00:00 TimeMin=N/A\n",
      "   SubmitTime=2016-12-22T23:24:57 EligibleTime=2016-12-22T23:24:57\n",
      "   StartTime=2016-12-22T23:26:14 EndTime=2016-12-27T23:26:15 Deadline=N/A\n",
      "   PreemptTime=None SuspendTime=None SecsPreSuspend=0\n",
      "   Partition=maxwell AllocNode:Sid=vmps09:23303\n",
      "   ReqNodeList=(null) ExcNodeList=(null)\n",
      "   NodeList=vmp1245\n",
      "   BatchHost=vmp1245\n",
      "   NumNodes=1 NumCPUs=2 NumTasks=2 CPUs/Task=1 ReqB:S:C:T=0:0:*:*\n",
      "   TRES=cpu=2,mem=60G,node=1,gres/gpu=2\n",
      "   Socks/Node=* NtasksPerN:B:S:C=0:0:*:* CoreSpec=*\n",
      "   MinCPUsNode=1 MinMemoryNode=60G MinTmpDiskNode=0\n",
      "   Features=(null) Gres=gpu:2 Reservation=(null)\n",
      "   OverSubscribe=OK Contiguous=0 Licenses=(null) Network=(null)\n",
      "   Command=/dors/meilerlab/home/hem5/ALK/MD/5EHR/prod\n",
      "   WorkDir=/dors/meilerlab/home/hem5/ALK/MD/5EHR\n",
      "   StdErr=/dors/meilerlab/home/hem5/ALK/MD/5EHR/dvtest.log\n",
      "   StdIn=/dev/null\n",
      "   StdOut=/dors/meilerlab/home/hem5/ALK/MD/5EHR/dvtest.log\n",
      "   Power=\n",
      "\n",
      "-------------------------------------------------------------------\n",
      "\n",
      "Printing memory allocation for job 11719325:\n",
      "57G\n",
      "Printing memory allocation for job 11718372:\n",
      "9600M\n",
      "Printing memory allocation for job 11718373:\n",
      "9600M\n",
      "Printing memory allocation for job 11718375:\n",
      "9600M\n",
      "Printing memory allocation for job 11718376:\n",
      "9600M\n",
      "Printing memory allocation for job 11718377:\n",
      "9600M\n",
      "Printing memory allocation for job 11705410:\n",
      "120G\n",
      "Printing memory allocation for job 11705380:\n",
      "120G\n",
      "Printing memory allocation for job 11690849:\n",
      "60G\n",
      "Printing memory allocation for job 11690825:\n",
      "60G\n"
     ]
    }
   ],
   "source": [
    "%%bash\n",
    "# let's use a for loop to get the memory info for a group of SLURM jobs\n",
    "# first, let's look at the output we will be parsing\n",
    "single_job=$(squeue --states=running | tail -1 | awk '{print $1}')\n",
    "echo -e \"Info about a single job:\\n\"\n",
    "scontrol show job $single_job\n",
    "echo -e \"-------------------------------------------------------------------\\n\"\n",
    "# in practice you might only care about your jobs, so you can run squeue -u <userid>\n",
    "for jobid in $(squeue --states=running | tail -10 | awk '{print $1}')\n",
    "do\n",
    "   echo \"Printing memory allocation for job $jobid:\"\n",
    "   scontrol show job $jobid | awk -F\",\" '/mem=/{print $2}' | awk -F\"=\" '{print $2}'\n",
    "done"
   ]
  },
  {
   "cell_type": "markdown",
   "metadata": {},
   "source": [
    "# Finding Files and Directories"
   ]
  },
  {
   "cell_type": "code",
   "execution_count": 35,
   "metadata": {
    "collapsed": false
   },
   "outputs": [
    {
     "name": "stdout",
     "output_type": "stream",
     "text": [
      ".\n",
      "./sim-output.dat\n",
      "./bin\n",
      "./bin/README.md\n",
      "./inc\n",
      "./inc/energy_force.h\n",
      "./inc/timer.h\n",
      "./inc/cl_parse.h\n",
      "./inc/initialization.h\n",
      "./inc/props.h\n",
      "./inc/integrator.h\n",
      "./inc/params.h\n",
      "./inc/atoms.h\n",
      "./inc/print_traj.h\n",
      "./Makefile\n",
      "./nums.txt\n",
      "./simulate.sh\n",
      "./nums.csv\n",
      "./obj\n",
      "./obj/README.md\n",
      "./images\n",
      "./images/125atoms.png\n",
      "./images/5000atoms.png\n",
      "./images/README.md\n",
      "./README.md\n",
      "./.gitignore\n",
      "./.git\n",
      "./.git/description\n",
      "./.git/logs\n",
      "./.git/logs/refs\n",
      "./.git/logs/refs/heads\n",
      "./.git/logs/refs/heads/master\n",
      "./.git/logs/refs/remotes\n",
      "./.git/logs/refs/remotes/origin\n",
      "./.git/logs/refs/remotes/origin/HEAD\n",
      "./.git/logs/HEAD\n",
      "./.git/hooks\n",
      "./.git/hooks/pre-commit.sample\n",
      "./.git/hooks/update.sample\n",
      "./.git/hooks/applypatch-msg.sample\n",
      "./.git/hooks/pre-push.sample\n",
      "./.git/hooks/pre-applypatch.sample\n",
      "./.git/hooks/pre-rebase.sample\n",
      "./.git/hooks/prepare-commit-msg.sample\n",
      "./.git/hooks/commit-msg.sample\n",
      "./.git/hooks/post-update.sample\n",
      "./.git/refs\n",
      "./.git/refs/heads\n",
      "./.git/refs/heads/master\n",
      "./.git/refs/tags\n",
      "./.git/refs/remotes\n",
      "./.git/refs/remotes/origin\n",
      "./.git/refs/remotes/origin/HEAD\n",
      "./.git/packed-refs\n",
      "./.git/objects\n",
      "./.git/objects/pack\n",
      "./.git/objects/pack/pack-d79addadb8a306fc967a4883bedf6999cd7b9606.idx\n",
      "./.git/objects/pack/pack-d79addadb8a306fc967a4883bedf6999cd7b9606.pack\n",
      "./.git/objects/info\n",
      "./.git/index\n",
      "./.git/config\n",
      "./.git/branches\n",
      "./.git/HEAD\n",
      "./.git/info\n",
      "./.git/info/exclude\n",
      "./src\n",
      "./src/energy_force.c\n",
      "./src/cl_parse.c\n",
      "./src/initialization.c\n",
      "./src/mddriver.c\n",
      "./src/print_traj.c\n",
      "./src/atoms.c\n",
      "./src/integrator.c\n",
      "./src/README.md\n",
      "./src/params.c\n",
      "./src/timer.c\n",
      "./src/props.c\n"
     ]
    }
   ],
   "source": [
    "%%bash\n",
    "find .    # print all files and directories in your current directory (recursively)"
   ]
  },
  {
   "cell_type": "code",
   "execution_count": 36,
   "metadata": {
    "collapsed": false
   },
   "outputs": [
    {
     "name": "stdout",
     "output_type": "stream",
     "text": [
      "./inc\n",
      "./inc/energy_force.h\n",
      "./inc/timer.h\n",
      "./inc/cl_parse.h\n",
      "./inc/initialization.h\n",
      "./inc/props.h\n",
      "./inc/integrator.h\n",
      "./inc/params.h\n",
      "./inc/atoms.h\n",
      "./inc/print_traj.h\n"
     ]
    }
   ],
   "source": [
    "%%bash\n",
    "find . | grep inc   # preferred method shown below"
   ]
  },
  {
   "cell_type": "code",
   "execution_count": 37,
   "metadata": {
    "collapsed": false
   },
   "outputs": [
    {
     "name": "stdout",
     "output_type": "stream",
     "text": [
      "inc/\n",
      "inc/energy_force.h\n",
      "inc/timer.h\n",
      "inc/cl_parse.h\n",
      "inc/initialization.h\n",
      "inc/props.h\n",
      "inc/integrator.h\n",
      "inc/params.h\n",
      "inc/atoms.h\n",
      "inc/print_traj.h\n"
     ]
    }
   ],
   "source": [
    "%%bash\n",
    "find inc/   # better to write this instead of grepping as shown above"
   ]
  },
  {
   "cell_type": "code",
   "execution_count": 38,
   "metadata": {
    "collapsed": false
   },
   "outputs": [
    {
     "name": "stdout",
     "output_type": "stream",
     "text": [
      ".\n",
      "./bin\n",
      "./inc\n",
      "./obj\n",
      "./images\n",
      "./.git\n",
      "./.git/logs\n",
      "./.git/logs/refs\n",
      "./.git/logs/refs/heads\n",
      "./.git/logs/refs/remotes\n",
      "./.git/logs/refs/remotes/origin\n",
      "./.git/hooks\n",
      "./.git/refs\n",
      "./.git/refs/heads\n",
      "./.git/refs/tags\n",
      "./.git/refs/remotes\n",
      "./.git/refs/remotes/origin\n",
      "./.git/objects\n",
      "./.git/objects/pack\n",
      "./.git/objects/info\n",
      "./.git/branches\n",
      "./.git/info\n",
      "./src\n"
     ]
    }
   ],
   "source": [
    "%%bash\n",
    "find . -type d   # only returns directories"
   ]
  },
  {
   "cell_type": "code",
   "execution_count": 39,
   "metadata": {
    "collapsed": false
   },
   "outputs": [
    {
     "name": "stdout",
     "output_type": "stream",
     "text": [
      "./sim-output.dat\n",
      "./bin/README.md\n",
      "./inc/energy_force.h\n",
      "./inc/timer.h\n",
      "./inc/cl_parse.h\n",
      "./inc/initialization.h\n",
      "./inc/props.h\n",
      "./inc/integrator.h\n",
      "./inc/params.h\n",
      "./inc/atoms.h\n",
      "./inc/print_traj.h\n",
      "./Makefile\n",
      "./nums.txt\n",
      "./simulate.sh\n",
      "./nums.csv\n",
      "./obj/README.md\n",
      "./images/125atoms.png\n",
      "./images/5000atoms.png\n",
      "./images/README.md\n",
      "./README.md\n",
      "./.gitignore\n",
      "./.git/description\n",
      "./.git/logs/refs/heads/master\n",
      "./.git/logs/refs/remotes/origin/HEAD\n",
      "./.git/logs/HEAD\n",
      "./.git/hooks/pre-commit.sample\n",
      "./.git/hooks/update.sample\n",
      "./.git/hooks/applypatch-msg.sample\n",
      "./.git/hooks/pre-push.sample\n",
      "./.git/hooks/pre-applypatch.sample\n",
      "./.git/hooks/pre-rebase.sample\n",
      "./.git/hooks/prepare-commit-msg.sample\n",
      "./.git/hooks/commit-msg.sample\n",
      "./.git/hooks/post-update.sample\n",
      "./.git/refs/heads/master\n",
      "./.git/refs/remotes/origin/HEAD\n",
      "./.git/packed-refs\n",
      "./.git/objects/pack/pack-d79addadb8a306fc967a4883bedf6999cd7b9606.idx\n",
      "./.git/objects/pack/pack-d79addadb8a306fc967a4883bedf6999cd7b9606.pack\n",
      "./.git/index\n",
      "./.git/config\n",
      "./.git/HEAD\n",
      "./.git/info/exclude\n",
      "./src/energy_force.c\n",
      "./src/cl_parse.c\n",
      "./src/initialization.c\n",
      "./src/mddriver.c\n",
      "./src/print_traj.c\n",
      "./src/atoms.c\n",
      "./src/integrator.c\n",
      "./src/README.md\n",
      "./src/params.c\n",
      "./src/timer.c\n",
      "./src/props.c\n"
     ]
    }
   ],
   "source": [
    "%%bash\n",
    "find . -type f"
   ]
  },
  {
   "cell_type": "code",
   "execution_count": 40,
   "metadata": {
    "collapsed": false
   },
   "outputs": [
    {
     "name": "stdout",
     "output_type": "stream",
     "text": [
      "./sim-output.dat\n",
      "./Makefile\n",
      "./nums.txt\n",
      "./simulate.sh\n",
      "./nums.csv\n",
      "./README.md\n",
      "./.gitignore\n"
     ]
    }
   ],
   "source": [
    "%%bash\n",
    "find . -type f -maxdepth 1   # limit search to files within current directory (i.e. no searching in subdirectories)"
   ]
  },
  {
   "cell_type": "code",
   "execution_count": 41,
   "metadata": {
    "collapsed": false
   },
   "outputs": [
    {
     "name": "stdout",
     "output_type": "stream",
     "text": [
      "./.git/logs\n",
      "./.git/hooks\n",
      "./.git/refs\n",
      "./.git/objects\n",
      "./.git/branches\n",
      "./.git/info\n"
     ]
    }
   ],
   "source": [
    "%%bash\n",
    "find . -type d -mindepth 2 -maxdepth 2   # limit search to directories at depth=2 (subdirectories of subdirectories)"
   ]
  },
  {
   "cell_type": "code",
   "execution_count": 42,
   "metadata": {
    "collapsed": false
   },
   "outputs": [
    {
     "name": "stdout",
     "output_type": "stream",
     "text": [
      "./src/props.c\n"
     ]
    }
   ],
   "source": [
    "%%bash\n",
    "find . -name props.c"
   ]
  },
  {
   "cell_type": "code",
   "execution_count": 43,
   "metadata": {
    "collapsed": false
   },
   "outputs": [
    {
     "name": "stdout",
     "output_type": "stream",
     "text": [
      ".\n",
      "./sim-output.dat\n",
      "./nums.txt\n",
      "./nums.csv\n",
      "./.git\n",
      "./.git/index\n",
      "./src\n",
      "./src/timer.c\n"
     ]
    }
   ],
   "source": [
    "%%bash\n",
    "find . -newer ./src/props.c"
   ]
  },
  {
   "cell_type": "code",
   "execution_count": 44,
   "metadata": {
    "collapsed": false
   },
   "outputs": [
    {
     "name": "stdout",
     "output_type": "stream",
     "text": [
      "total 84\n",
      "-rw-r--r--. 1 frenchwr accre 2049 Dec 22 17:41 atoms.c\n",
      "-rw-r--r--. 1 frenchwr accre 3544 Dec 22 17:41 cl_parse.c\n",
      "-rw-r--r--. 1 frenchwr accre 4524 Dec 22 17:41 energy_force.c\n",
      "-rw-r--r--. 1 frenchwr accre 3725 Dec 22 17:41 initialization.c\n",
      "-rw-r--r--. 1 frenchwr accre 3454 Dec 22 17:41 integrator.c\n",
      "-rw-r--r--. 1 frenchwr accre 4625 Dec 22 17:41 mddriver.c\n",
      "-rw-r--r--. 1 frenchwr accre 1857 Dec 22 17:41 params.c\n",
      "-rw-r--r--. 1 frenchwr accre  785 Dec 22 17:41 print_traj.c\n",
      "-rw-r--r--. 1 frenchwr accre 2606 Dec 22 17:41 props.c\n",
      "-rw-r--r--. 1 frenchwr accre  951 Dec 22 17:41 README.md\n",
      "-rw-r--r--. 1 frenchwr accre 2089 Dec 22 17:41 timer.c\n",
      "total 84\n",
      "-rw-r--r--. 1 frenchwr accre 2049 Dec 22 17:41 atoms.c\n",
      "-rw-r--r--. 1 frenchwr accre 3544 Dec 22 17:41 cl_parse.c\n",
      "-rw-r--r--. 1 frenchwr accre 4524 Dec 22 17:41 energy_force.c\n",
      "-rw-r--r--. 1 frenchwr accre 3725 Dec 22 17:41 initialization.c\n",
      "-rw-r--r--. 1 frenchwr accre 3454 Dec 22 17:41 integrator.c\n",
      "-rw-r--r--. 1 frenchwr accre 4625 Dec 22 17:41 mddriver.c\n",
      "-rw-r--r--. 1 frenchwr accre 1857 Dec 22 17:41 params.c\n",
      "-rw-r--r--. 1 frenchwr accre  785 Dec 22 17:41 print_traj.c\n",
      "-rw-r--r--. 1 frenchwr accre 2606 Dec 22 17:41 props.c\n",
      "-rw-r--r--. 1 frenchwr accre  951 Dec 22 17:41 README.md\n",
      "-rw-r--r--. 1 frenchwr accre 2089 Dec 22 17:41 timer.c\n"
     ]
    }
   ],
   "source": [
    "%%bash\n",
    "ls -l src/\n",
    "find . -name '*.c' -exec chown frenchwr:accre {} +    # change ownership on all .c files\n",
    "# single quote important to prevent expansion of glob before find command executes\n",
    "ls -l src/"
   ]
  },
  {
   "cell_type": "code",
   "execution_count": 45,
   "metadata": {
    "collapsed": false
   },
   "outputs": [
    {
     "name": "stdout",
     "output_type": "stream",
     "text": [
      "  14 ./inc/energy_force.h\n",
      "  14 ./inc/timer.h\n",
      "  14 ./inc/cl_parse.h\n",
      "  10 ./inc/initialization.h\n",
      "  12 ./inc/props.h\n",
      "  11 ./inc/integrator.h\n",
      "  29 ./inc/params.h\n",
      "  24 ./inc/atoms.h\n",
      "   8 ./inc/print_traj.h\n",
      " 136 total\n"
     ]
    }
   ],
   "source": [
    "%%bash\n",
    "wc -l $(find . -name '*.h')  # embedding the output from a find to pass to another command is very common/powerful"
   ]
  },
  {
   "cell_type": "markdown",
   "metadata": {},
   "source": [
    "# Brace Expansion"
   ]
  },
  {
   "cell_type": "code",
   "execution_count": 46,
   "metadata": {
    "collapsed": false
   },
   "outputs": [
    {
     "name": "stdout",
     "output_type": "stream",
     "text": [
      "1 2 3 4 5 6 7 8 9 10 11 12 13 14 15 16 17 18 19 20\n"
     ]
    }
   ],
   "source": [
    "%%bash\n",
    "echo {1..20}    # iterate from 1 to 20 with stepsize of 1"
   ]
  },
  {
   "cell_type": "code",
   "execution_count": 47,
   "metadata": {
    "collapsed": false
   },
   "outputs": [
    {
     "name": "stdout",
     "output_type": "stream",
     "text": [
      "1 20 40 60\n"
     ]
    }
   ],
   "source": [
    "%%bash\n",
    "echo {1,20,40,60}     # rather than providing a range you can also just hard code the values"
   ]
  },
  {
   "cell_type": "code",
   "execution_count": 48,
   "metadata": {
    "collapsed": false
   },
   "outputs": [
    {
     "name": "stdout",
     "output_type": "stream",
     "text": [
      "1 3 5 7 9 11 13 15 17 19\n"
     ]
    }
   ],
   "source": [
    "%%bash\n",
    "echo {1..20..2}    # use stepsize of 2"
   ]
  },
  {
   "cell_type": "code",
   "execution_count": 49,
   "metadata": {
    "collapsed": false
   },
   "outputs": [
    {
     "name": "stdout",
     "output_type": "stream",
     "text": [
      "a11b a12b a13b a14b a15b a16b a17b a18b a19b a20b a21b a22b\n"
     ]
    }
   ],
   "source": [
    "%%bash\n",
    "echo a{11..22}b    # embed expansion between other strings"
   ]
  },
  {
   "cell_type": "code",
   "execution_count": 50,
   "metadata": {
    "collapsed": false
   },
   "outputs": [
    {
     "name": "stdout",
     "output_type": "stream",
     "text": [
      "total 0\n",
      "drwxr-xr-x. 2 frenchwr accre 512 Dec 27 15:00 bin\n",
      "drwxr-xr-x. 2 frenchwr accre 512 Dec 27 15:00 inc\n",
      "drwxr-xr-x. 2 frenchwr accre 512 Dec 27 15:00 lib\n",
      "drwxr-xr-x. 2 frenchwr accre 512 Dec 27 15:00 src\n"
     ]
    }
   ],
   "source": [
    "%%bash\n",
    "mkdir -p tmp/{src,inc,bin,lib} # especially useful if specifying long file path\n",
    "ls -lh tmp\n",
    "rm -r tmp  # cleanup"
   ]
  },
  {
   "cell_type": "code",
   "execution_count": 51,
   "metadata": {
    "collapsed": false
   },
   "outputs": [],
   "source": [
    "%%bash\n",
    "# brace expansions with numeric ranges often used with for loops\n",
    "for i in {1..10}\n",
    "do\n",
    "   mkdir run$i\n",
    "   cp simulate.sh run$i\n",
    "done\n",
    "rm -r run{1..10}  # cleanup"
   ]
  },
  {
   "cell_type": "code",
   "execution_count": 52,
   "metadata": {
    "collapsed": false
   },
   "outputs": [
    {
     "name": "stdout",
     "output_type": "stream",
     "text": [
      "a b c d e f g h i j k l m n o p q r s t u v w x y z\n"
     ]
    }
   ],
   "source": [
    "%%bash\n",
    "echo {a..z}    # you can also provide alphabetic ranges"
   ]
  },
  {
   "cell_type": "code",
   "execution_count": 53,
   "metadata": {
    "collapsed": false
   },
   "outputs": [
    {
     "name": "stdout",
     "output_type": "stream",
     "text": [
      "A B C D E F G H I J K L M N O P Q R S T U V W X Y Z\n"
     ]
    }
   ],
   "source": [
    "%%bash\n",
    "echo {A..Z}   # all caps"
   ]
  },
  {
   "cell_type": "code",
   "execution_count": 54,
   "metadata": {
    "collapsed": false
   },
   "outputs": [
    {
     "name": "stdout",
     "output_type": "stream",
     "text": [
      "A B C D E F G H I J K L M N O P Q R S T U V W X Y Z [  ] ^ _ ` a b c d e f g h i j k l m n o p q r s t u v w x y z\n"
     ]
    }
   ],
   "source": [
    "%%bash\n",
    "echo {A..z}   # upper and lower case ranges, with a few other ascii characters between"
   ]
  },
  {
   "cell_type": "code",
   "execution_count": 55,
   "metadata": {
    "collapsed": false
   },
   "outputs": [
    {
     "name": "stdout",
     "output_type": "stream",
     "text": [
      "a c e g i k m o q s u w y\n"
     ]
    }
   ],
   "source": [
    "%%bash\n",
    "echo {a..z..2}    # can also use stepsizes with alphabetic ranges"
   ]
  },
  {
   "cell_type": "code",
   "execution_count": 56,
   "metadata": {
    "collapsed": false
   },
   "outputs": [
    {
     "name": "stdout",
     "output_type": "stream",
     "text": [
      "Z U P K F A\n"
     ]
    }
   ],
   "source": [
    "%%bash \n",
    "echo {Z..A..5}"
   ]
  },
  {
   "cell_type": "code",
   "execution_count": 57,
   "metadata": {
    "collapsed": false
   },
   "outputs": [
    {
     "name": "stdout",
     "output_type": "stream",
     "text": [
      "nums.txt\n",
      "nums.txt.bak\n"
     ]
    }
   ],
   "source": [
    "%%bash\n",
    "cp nums.txt{,.bak}  # equivalent to running \"cp nums.txt nums.txt.bak\"; especially useful with long file paths\n",
    "ls nums.txt*\n",
    "rm nums.txt.bak # cleanup"
   ]
  },
  {
   "cell_type": "code",
   "execution_count": null,
   "metadata": {
    "collapsed": true
   },
   "outputs": [],
   "source": []
  }
 ],
 "metadata": {
  "kernelspec": {
   "display_name": "Python 2",
   "language": "python",
   "name": "python2"
  },
  "language_info": {
   "codemirror_mode": {
    "name": "ipython",
    "version": 2
   },
   "file_extension": ".py",
   "mimetype": "text/x-python",
   "name": "python",
   "nbconvert_exporter": "python",
   "pygments_lexer": "ipython2",
   "version": "2.7.12"
  }
 },
 "nbformat": 4,
 "nbformat_minor": 0
}
